{
 "cells": [
  {
   "cell_type": "code",
   "execution_count": null,
   "metadata": {},
   "outputs": [],
   "source": [
    "import os\n",
    "import time\n",
    "import numpy as np\n",
    "import numpy.random as rd\n",
    "import pandas as pd\n",
    "from schedule.data_process import DataProcessor\n",
    "from schedule.ga import Schedule, Lesson, GeneticSchedule, set_uniconf\n",
    "from schedule.config import set_run_info, config\n",
    "from schedule.data_exchange import Exchanger, ExchangeFormat\n",
    "from schedule.schedule_test import test_data2"
   ]
  },
  {
   "cell_type": "code",
   "execution_count": null,
   "metadata": {},
   "outputs": [],
   "source": [
    "days = [i for j in test_data2['days'] for i in j]\n",
    "time_slots = [i for j in test_data2['time_slots'] for i in j]\n",
    "\n",
    "auditoriums = [(i, int(j)) for i, j in test_data2['auditoriums']]\n",
    "auditoriums.sort(key=lambda x: x[1])\n",
    "auditoriums = pd.DataFrame(auditoriums, columns=['auditorium', 'capacity'])\n",
    "student_groups = {i: int(j) for i, j in sorted(test_data2['student_groups'])}\n",
    "\n",
    "# student_groups = [(i, int(j)) for i, j in sorted(test_data2['student_groups'])]\n",
    "# student_groups = pd.DataFrame(student_groups, columns=['group', 'amount'])\n",
    "\n",
    "lessons_short = pd.DataFrame(test_data2['lessons'], columns=['course', 'type', 'group', 'lector'])\n",
    "lessons = pd.read_csv('schedule/csv/lessons.csv', names=['course', 'type', 'group', 'lector'])\n",
    "courses = lessons.course.unique()"
   ]
  },
  {
   "cell_type": "code",
   "execution_count": null,
   "metadata": {
    "scrolled": true
   },
   "outputs": [],
   "source": [
    "def have_subgroup(group, groups):\n",
    "    for g in groups:\n",
    "        if group != g and g.startswith(group):\n",
    "            return True\n",
    "    return False\n",
    "\n",
    "def have_overgroup(group, groups):\n",
    "    for g in groups:\n",
    "        if group != g and group.startswith(g):\n",
    "            return True, g\n",
    "    return False, None\n",
    "\n",
    "def dict_to_str_config(d, open_tag):\n",
    "    st = f'#{open_tag}\\n'\n",
    "    for key, value in d.items():\n",
    "        if isinstance(value, list):\n",
    "            for v in value:\n",
    "                st += f'\\t{key} = {v}\\n'\n",
    "        else:\n",
    "            st += f'\\t{key} = {value}\\n'\n",
    "    st += '#end'\n",
    "    return st\n",
    "\n",
    "\n",
    "def is_lab(aud):\n",
    "    return 'false' if aud in ['105', '106', '107', '108'] else 'true'\n",
    "\n",
    "def df_to_dict(lessons):\n",
    "    lessons = np.array(lessons)\n",
    "    profs_dict = {prof: i for i, prof in enumerate(profs, 1)}\n",
    "    courses_dict = {cours: i for i, cours in enumerate(courses, 1)}\n",
    "    classes_str = []\n",
    "    for course, ltype, group, lector in lessons:\n",
    "        d = {'professor': profs_dict[lector], 'course': courses_dict[course], 'duration': 2}\n",
    "        if group in groups_load:\n",
    "            d['group'] = group\n",
    "            d['lab'] = 'true'\n",
    "        else:\n",
    "            d['group'] = [g for g in groups_load if g.startswith(group)]\n",
    "        classes_str.append(dict_to_str_config(d, 'class'))\n",
    "    return '\\n\\n'.join(classes_str)\n",
    "\n",
    "r = np.zeros((len(days), len(time_slots), len(auditoriums)), dtype=int) - 1\n",
    "groups_load = {i: np.zeros((len(days),)) for i in student_groups if not have_subgroup(i, student_groups)}\n",
    "grades = {i: student_groups[i] for i in student_groups if not have_overgroup(i, student_groups)[0]}"
   ]
  },
  {
   "cell_type": "code",
   "execution_count": null,
   "metadata": {},
   "outputs": [],
   "source": [
    "grouped_lessons = lessons.groupby(by='course').groups\n",
    "grades_lessons = lessons.groupby(by='group').groups\n",
    "\n",
    "new_grades_lessons = {}\n",
    "\n",
    "for group in grades_lessons:\n",
    "    parts = group.split('-')\n",
    "    grade = parts[0]\n",
    "    if grade[0] == 'M':\n",
    "        grade += '-' + parts[1]\n",
    "    if not grade in new_grades_lessons:\n",
    "        new_grades_lessons[grade] = set()\n",
    "    new_grades_lessons[grade] = new_grades_lessons[grade].union(grades_lessons[group])\n",
    "    \n",
    "for group in new_grades_lessons:\n",
    "    new_grades_lessons[group] = np.array(sorted(new_grades_lessons[group]))\n",
    "    \n",
    "grades_lessons = new_grades_lessons"
   ]
  },
  {
   "cell_type": "code",
   "execution_count": null,
   "metadata": {},
   "outputs": [],
   "source": [
    "auditoriums\n",
    "student_groups\n",
    "lessons\n",
    "courses\n",
    "r\n",
    "groups_load\n",
    "grades\n",
    "grades_lessons\n",
    "grouped_lessons"
   ]
  },
  {
   "cell_type": "code",
   "execution_count": null,
   "metadata": {},
   "outputs": [],
   "source": [
    "profs = lessons.lector.unique()"
   ]
  },
  {
   "cell_type": "code",
   "execution_count": null,
   "metadata": {},
   "outputs": [],
   "source": [
    "profs_str = '\\n\\n'.join([dict_to_str_config({'id': i, 'name': prof}, 'prof') for i, prof in enumerate(profs, 1)])\n",
    "courses_str = '\\n\\n'.join([dict_to_str_config({'id': i, 'name': prof}, 'course') for i, prof in enumerate(courses, 1)])\n",
    "rooms_str = [{'name': aud, 'lab': is_lab(aud), 'size': cap} for aud, cap in np.array(auditoriums)]\n",
    "rooms_str = '\\n\\n'.join([dict_to_str_config(x, 'room') for x in rooms_str])\n",
    "group_str = [{'id': i, 'name': g, 'size': student_groups[g]} for i, g in enumerate(groups_load.keys(), 1)]\n",
    "group_str = '\\n\\n'.join([dict_to_str_config(x, 'group') for x in group_str])\n",
    "lessons_str = df_to_dict(lessons)"
   ]
  },
  {
   "cell_type": "code",
   "execution_count": null,
   "metadata": {},
   "outputs": [],
   "source": [
    "with open('scheduler_cpp/GaScheduleApp/GaSchedule1.cfg', 'w') as f:\n",
    "    l = [profs_str, courses_str, rooms_str, group_str, lessons_str]\n",
    "    print('\\n\\n'.join(l))\n",
    "    f.write('\\n\\n'.join(l))"
   ]
  },
  {
   "cell_type": "code",
   "execution_count": null,
   "metadata": {},
   "outputs": [],
   "source": [
    "f = open('scheduler_cpp/GaScheduleApp/GaSchedule.cfg').read()\n",
    "print(f)"
   ]
  },
  {
   "cell_type": "code",
   "execution_count": null,
   "metadata": {},
   "outputs": [],
   "source": []
  },
  {
   "cell_type": "code",
   "execution_count": null,
   "metadata": {},
   "outputs": [],
   "source": [
    "lessons.iloc[grouped_lessons[courses[4]]]"
   ]
  },
  {
   "cell_type": "code",
   "execution_count": null,
   "metadata": {},
   "outputs": [],
   "source": [
    "auditoriums[auditoriums.capacity>=150*0.9]"
   ]
  },
  {
   "cell_type": "code",
   "execution_count": null,
   "metadata": {
    "scrolled": true
   },
   "outputs": [],
   "source": [
    "lessons[lessons.course == (lessons.iloc[grades_lessons['B16']].course.unique()[0])]"
   ]
  },
  {
   "cell_type": "code",
   "execution_count": null,
   "metadata": {},
   "outputs": [],
   "source": [
    "for grade, grade_size in sorted(grades.items(), key=lambda x: -x[1]):\n",
    "    grade_lessons = lessons.iloc[grades_lessons[grade]]\n",
    "    grade_courses = grade_lessons.course.unique()\n",
    "    grade_courses = sorted(grade_courses, key=lambda x: -(grade_lessons.course == x).sum())"
   ]
  },
  {
   "cell_type": "code",
   "execution_count": null,
   "metadata": {},
   "outputs": [],
   "source": [
    "import os"
   ]
  },
  {
   "cell_type": "code",
   "execution_count": null,
   "metadata": {},
   "outputs": [],
   "source": [
    "grades"
   ]
  },
  {
   "cell_type": "code",
   "execution_count": null,
   "metadata": {},
   "outputs": [],
   "source": [
    "grade_lessons = lessons.iloc[grades_lessons['B17']]\n",
    "grade_courses = grade_lessons.course.unique()\n",
    "grade_courses = sorted(grade_courses, key=lambda x: -(grade_lessons.course == x).sum())\n",
    "for course in grade_courses:\n",
    "    course_lessons = grade_lessons.loc[grouped_lessons[course]]\n",
    "    course_types = course_lessons.groupby(by='type').groups\n",
    "    if 'Lecture' in course_types:\n",
    "        lectures = course_types['Lecture']\n",
    "        if len(lectures) == 2:\n",
    "            available_auditoriums = (auditoriums.capacity >= grade_size*0.9).to_numpy().nonzero()[0]\n",
    "            day, time, aud = choose_slot(r, available_auditoriums, group)"
   ]
  },
  {
   "cell_type": "code",
   "execution_count": null,
   "metadata": {},
   "outputs": [],
   "source": [
    "def choose_slot(tensor, avl_aud, group):\n",
    "    day = 0\n",
    "    good_place = False\n",
    "    for i in range(r.shape[0]):\n",
    "        for aud in available_auditoriums:\n",
    "            for \n",
    "            day_slots = r[i, :, aud]\n",
    "            \n",
    "    wh\n",
    "    r_day = r[0]\n",
    "    "
   ]
  },
  {
   "cell_type": "code",
   "execution_count": null,
   "metadata": {},
   "outputs": [],
   "source": [
    "r.shape"
   ]
  },
  {
   "cell_type": "code",
   "execution_count": null,
   "metadata": {},
   "outputs": [],
   "source": [
    "grade_courses"
   ]
  },
  {
   "cell_type": "code",
   "execution_count": null,
   "metadata": {},
   "outputs": [],
   "source": [
    "grade_courses[0]"
   ]
  },
  {
   "cell_type": "code",
   "execution_count": null,
   "metadata": {},
   "outputs": [],
   "source": [
    "course_lessons = grade_lessons.loc[grouped_lessons[grade_courses[0]]]\n",
    "course_types = course_lessons.groupby(by='type').groups"
   ]
  },
  {
   "cell_type": "code",
   "execution_count": null,
   "metadata": {},
   "outputs": [],
   "source": [
    "available_auditoriums = (auditoriums.capacity >= grade_size*0.9).to_numpy().nonzero()[0]\n",
    "day_slots = np.nonzero(r[0, :, available_auditoriums])"
   ]
  },
  {
   "cell_type": "code",
   "execution_count": null,
   "metadata": {},
   "outputs": [],
   "source": [
    "day_slots"
   ]
  },
  {
   "cell_type": "code",
   "execution_count": null,
   "metadata": {},
   "outputs": [],
   "source": [
    "course_types"
   ]
  },
  {
   "cell_type": "code",
   "execution_count": null,
   "metadata": {},
   "outputs": [],
   "source": [
    "grade_size = 150"
   ]
  },
  {
   "cell_type": "code",
   "execution_count": null,
   "metadata": {},
   "outputs": [],
   "source": [
    "available_auditoriums = (auditoriums.capacity >= grade_size*0.9).to_numpy().nonzero()[0]\n",
    "available_auditoriums"
   ]
  },
  {
   "cell_type": "code",
   "execution_count": null,
   "metadata": {},
   "outputs": [],
   "source": [
    "grade_lessons"
   ]
  },
  {
   "cell_type": "code",
   "execution_count": null,
   "metadata": {},
   "outputs": [],
   "source": []
  },
  {
   "cell_type": "code",
   "execution_count": null,
   "metadata": {},
   "outputs": [],
   "source": [
    "import subprocess\n",
    "import os"
   ]
  },
  {
   "cell_type": "code",
   "execution_count": null,
   "metadata": {},
   "outputs": [],
   "source": [
    "subprocess.call(r\"automatic-timetable-system.exe\")"
   ]
  },
  {
   "cell_type": "code",
   "execution_count": null,
   "metadata": {},
   "outputs": [],
   "source": [
    "path = \"D:\\\\Vyacheslav\\\\Documents\\\\PyCharmProjects\\\\automatic-timetable-system\\\\scheduler_cpp\\\\GaScheduleSource\\\\cmake-build-debug\\\\\"\n",
    "\n",
    "os.chdir(path)\n",
    "os.system(\".\\\\automatic-timetable-system.exe\")"
   ]
  },
  {
   "cell_type": "code",
   "execution_count": null,
   "metadata": {},
   "outputs": [],
   "source": [
    "process = subprocess.Popen([r\"scheduler_cpp/GaScheduleSource/cmake-build-debug/automatic-timetable-system.exe\"], \\\n",
    "                           stderr = subprocess.PIPE, shell=True)\n",
    "if process.stderr:\n",
    "    print(process.stderr.readlines()[1].decode('cp866'))"
   ]
  },
  {
   "cell_type": "code",
   "execution_count": null,
   "metadata": {},
   "outputs": [],
   "source": [
    "process.stdout.readlines()"
   ]
  },
  {
   "cell_type": "code",
   "execution_count": null,
   "metadata": {},
   "outputs": [],
   "source": [
    "t.returncode"
   ]
  },
  {
   "cell_type": "code",
   "execution_count": null,
   "metadata": {},
   "outputs": [],
   "source": [
    "os.system(r\"scheduler_cpp\\\\GaScheduleSource\\\\cmake-build-debug\\\\automatic-timetable-system.exe\")"
   ]
  },
  {
   "cell_type": "code",
   "execution_count": null,
   "metadata": {},
   "outputs": [],
   "source": []
  }
 ],
 "metadata": {
  "kernelspec": {
   "display_name": "Python 3",
   "language": "python",
   "name": "python3"
  },
  "language_info": {
   "codemirror_mode": {
    "name": "ipython",
    "version": 3
   },
   "file_extension": ".py",
   "mimetype": "text/x-python",
   "name": "python",
   "nbconvert_exporter": "python",
   "pygments_lexer": "ipython3",
   "version": "3.6.7"
  }
 },
 "nbformat": 4,
 "nbformat_minor": 2
}
